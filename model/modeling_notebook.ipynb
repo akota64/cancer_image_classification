{
 "cells": [
  {
   "cell_type": "markdown",
   "id": "2a994843",
   "metadata": {},
   "source": [
    "# Cancer Image Classification"
   ]
  },
  {
   "cell_type": "markdown",
   "id": "071fbfb4",
   "metadata": {},
   "source": [
    "### Overview\n",
    "In this project, we implement a convolutional neural network to classify a given lung cell image input as one of the following: benign lung tissue, lung squamous cell carcinoma, or lung adenocarcinoma."
   ]
  },
  {
   "cell_type": "markdown",
   "id": "4d77fd01",
   "metadata": {},
   "source": [
    "### Implementation"
   ]
  },
  {
   "cell_type": "code",
   "execution_count": 2,
   "id": "ac56b035",
   "metadata": {},
   "outputs": [],
   "source": [
    "import numpy as np\n",
    "import pandas as pd\n",
    "import tensorflow as tf\n",
    "import tensorflow.keras.layers\n",
    "import matplotlib.pyplot as plt\n",
    "from PIL import Image\n",
    "\n",
    "%matplotlib inline\n",
    "np.random.seed(64)"
   ]
  },
  {
   "cell_type": "code",
   "execution_count": 6,
   "id": "5a69486a",
   "metadata": {},
   "outputs": [],
   "source": [
    "def CarciNet(inp_size):\n",
    "    \n",
    "    inp = tf.keras.Input(inp_size)\n",
    "    \n",
    "    return 0"
   ]
  }
 ],
 "metadata": {
  "kernelspec": {
   "display_name": "Python 3 (ipykernel)",
   "language": "python",
   "name": "python3"
  },
  "language_info": {
   "codemirror_mode": {
    "name": "ipython",
    "version": 3
   },
   "file_extension": ".py",
   "mimetype": "text/x-python",
   "name": "python",
   "nbconvert_exporter": "python",
   "pygments_lexer": "ipython3",
   "version": "3.9.13"
  }
 },
 "nbformat": 4,
 "nbformat_minor": 5
}
