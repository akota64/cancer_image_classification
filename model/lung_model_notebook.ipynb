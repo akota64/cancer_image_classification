{
 "cells": [
  {
   "cell_type": "markdown",
   "id": "2a994843",
   "metadata": {},
   "source": [
    "# Lung Cancer Image Classification"
   ]
  },
  {
   "cell_type": "markdown",
   "id": "071fbfb4",
   "metadata": {},
   "source": [
    "### Overview\n",
    "In this project, we implement a convolutional neural network to classify a given lung cell image input as one of the following: benign lung tissue, lung squamous cell carcinoma, or lung adenocarcinoma."
   ]
  },
  {
   "cell_type": "markdown",
   "id": "be8c8002",
   "metadata": {},
   "source": [
    "### Environment Set-Up"
   ]
  },
  {
   "cell_type": "code",
   "execution_count": 156,
   "id": "3b361813",
   "metadata": {},
   "outputs": [],
   "source": [
    "import os\n",
    "import shutil\n",
    "import random\n",
    "import numpy as np\n",
    "import pandas as pd\n",
    "import tensorflow as tf\n",
    "import tensorflow.keras.layers\n",
    "from keras.preprocessing.image import ImageDataGenerator\n",
    "import matplotlib.pyplot as plt\n",
    "from PIL import Image\n",
    "\n",
    "%matplotlib inline\n",
    "SEED = 64"
   ]
  },
  {
   "cell_type": "markdown",
   "id": "59a41391",
   "metadata": {},
   "source": [
    "### Data Preparation"
   ]
  },
  {
   "cell_type": "code",
   "execution_count": 174,
   "id": "8d6b22b9",
   "metadata": {},
   "outputs": [
    {
     "data": {
      "text/html": [
       "<div>\n",
       "<style scoped>\n",
       "    .dataframe tbody tr th:only-of-type {\n",
       "        vertical-align: middle;\n",
       "    }\n",
       "\n",
       "    .dataframe tbody tr th {\n",
       "        vertical-align: top;\n",
       "    }\n",
       "\n",
       "    .dataframe thead th {\n",
       "        text-align: right;\n",
       "    }\n",
       "</style>\n",
       "<table border=\"1\" class=\"dataframe\">\n",
       "  <thead>\n",
       "    <tr style=\"text-align: right;\">\n",
       "      <th></th>\n",
       "      <th>target_id</th>\n",
       "      <th>target_name</th>\n",
       "    </tr>\n",
       "  </thead>\n",
       "  <tbody>\n",
       "    <tr>\n",
       "      <th>0</th>\n",
       "      <td>0</td>\n",
       "      <td>aca</td>\n",
       "    </tr>\n",
       "    <tr>\n",
       "      <th>1</th>\n",
       "      <td>1</td>\n",
       "      <td>n</td>\n",
       "    </tr>\n",
       "    <tr>\n",
       "      <th>2</th>\n",
       "      <td>2</td>\n",
       "      <td>scc</td>\n",
       "    </tr>\n",
       "  </tbody>\n",
       "</table>\n",
       "</div>"
      ],
      "text/plain": [
       "   target_id target_name\n",
       "0          0         aca\n",
       "1          1           n\n",
       "2          2         scc"
      ]
     },
     "execution_count": 174,
     "metadata": {},
     "output_type": "execute_result"
    }
   ],
   "source": [
    "# Contains the current data\n",
    "ORIG_DATA_PATH = \"../data/lung_colon_image_set/lung_image_sets\"\n",
    "NEW_DATA_PATH = \"lung_model_data\"\n",
    "\n",
    "# Will contain documentation of train, cv, test splits\n",
    "SPLIT_CSV_PATH = \"lung_model_data/lung_model_data.csv\"\n",
    "\n",
    "# Training set details\n",
    "TRAIN_PROP = 0.8\n",
    "TRAIN_ID = \"train\"\n",
    "\n",
    "# CV set details\n",
    "CV_PROP = 0.1\n",
    "CV_ID = \"cv\"\n",
    "\n",
    "# Test set details\n",
    "TEST_PROP = 0.1\n",
    "TEST_ID = \"test\"\n",
    "\n",
    "# Target id's\n",
    "# aca = 0\n",
    "# n = 1\n",
    "# scc = 2\n",
    "TARGETS = pd.DataFrame({'target_id': [0,1,2], 'target_name': [\"aca\", \"n\", \"scc\"]})\n",
    "\n",
    "IMG_DIM = (768, 768)\n",
    "\n",
    "TARGETS"
   ]
  },
  {
   "cell_type": "code",
   "execution_count": 161,
   "id": "d076b31a",
   "metadata": {},
   "outputs": [
    {
     "name": "stdout",
     "output_type": "stream",
     "text": [
      "There are a total of 15000 images, and the file names look like:\n",
      "('../data/lung_colon_image_set/lung_image_sets/lung_aca', '../data/lung_colon_image_set/lung_image_sets/lung_aca/lungaca3865.jpeg', 'lungaca3865.jpeg')\n",
      "('../data/lung_colon_image_set/lung_image_sets/lung_scc', '../data/lung_colon_image_set/lung_image_sets/lung_scc/lungscc789.jpeg', 'lungscc789.jpeg')\n",
      "('../data/lung_colon_image_set/lung_image_sets/lung_aca', '../data/lung_colon_image_set/lung_image_sets/lung_aca/lungaca3278.jpeg', 'lungaca3278.jpeg')\n",
      "('../data/lung_colon_image_set/lung_image_sets/lung_aca', '../data/lung_colon_image_set/lung_image_sets/lung_aca/lungaca1120.jpeg', 'lungaca1120.jpeg')\n",
      "('../data/lung_colon_image_set/lung_image_sets/lung_n', '../data/lung_colon_image_set/lung_image_sets/lung_n/lungn858.jpeg', 'lungn858.jpeg')\n"
     ]
    },
    {
     "data": {
      "text/plain": [
       "[None, None, None, None, None]"
      ]
     },
     "execution_count": 161,
     "metadata": {},
     "output_type": "execute_result"
    }
   ],
   "source": [
    "# Get all image paths\n",
    "imPaths = []\n",
    "for root, subdir, files in os.walk(DATA_DIR):\n",
    "    for file in files:\n",
    "        imPaths.append((root, os.path.join(root, file), file))\n",
    "imPaths = imPaths[1:]\n",
    "\n",
    "random.seed(SEED)\n",
    "random.shuffle(imPaths)\n",
    "\n",
    "print(f\"There are a total of {len(imPaths)} images, and the file names look like:\")\n",
    "[print(i) for i in imPaths[:5]]"
   ]
  },
  {
   "cell_type": "code",
   "execution_count": 162,
   "id": "0b4010f5",
   "metadata": {},
   "outputs": [
    {
     "name": "stdout",
     "output_type": "stream",
     "text": [
      "There are a total of 12000 training images, 1500 CV images, and 1500 testing images.\n",
      "These image sets are completely non-intersecting partitions of the full data set.\n",
      "Intersection of training & CV data: []\n",
      "Intersection of training & testing data: []\n",
      "Intersection of testing & CV data: []\n"
     ]
    }
   ],
   "source": [
    "# Split paths into train, CV, test\n",
    "trainSplitInd = int(TRAIN_PROP*len(imPaths))\n",
    "cvSplitInd = int((TRAIN_PROP+CV_PROP)*len(imPaths))\n",
    "\n",
    "trainPaths = imPaths[:trainSplitInd]\n",
    "cvPaths = imPaths[trainSplitInd:cvSplitInd]\n",
    "testPaths = imPaths[cvSplitInd:]\n",
    "\n",
    "print(f\"There are a total of {len(trainPaths)} training images, {len(cvPaths)} CV images, and {len(testPaths)} testing images.\")\n",
    "print(\"These image sets are completely non-intersecting partitions of the full data set.\")\n",
    "print(f\"Intersection of training & CV data: {list(set(trainPaths) & set(cvPaths))}\")\n",
    "print(f\"Intersection of training & testing data: {list(set(trainPaths) & set(testPaths))}\")\n",
    "print(f\"Intersection of testing & CV data: {list(set(testPaths) & set(cvPaths))}\")\n"
   ]
  },
  {
   "cell_type": "code",
   "execution_count": 177,
   "id": "91297c76",
   "metadata": {},
   "outputs": [
    {
     "data": {
      "text/html": [
       "<div>\n",
       "<style scoped>\n",
       "    .dataframe tbody tr th:only-of-type {\n",
       "        vertical-align: middle;\n",
       "    }\n",
       "\n",
       "    .dataframe tbody tr th {\n",
       "        vertical-align: top;\n",
       "    }\n",
       "\n",
       "    .dataframe thead th {\n",
       "        text-align: right;\n",
       "    }\n",
       "</style>\n",
       "<table border=\"1\" class=\"dataframe\">\n",
       "  <thead>\n",
       "    <tr style=\"text-align: right;\">\n",
       "      <th></th>\n",
       "      <th>dataset_id</th>\n",
       "      <th>image_path</th>\n",
       "      <th>root_path</th>\n",
       "      <th>file_name</th>\n",
       "      <th>target_id</th>\n",
       "      <th>target_name</th>\n",
       "    </tr>\n",
       "  </thead>\n",
       "  <tbody>\n",
       "    <tr>\n",
       "      <th>0</th>\n",
       "      <td>train</td>\n",
       "      <td>../data/lung_colon_image_set/lung_image_sets/l...</td>\n",
       "      <td>../data/lung_colon_image_set/lung_image_sets/l...</td>\n",
       "      <td>lungaca3865.jpeg</td>\n",
       "      <td>0</td>\n",
       "      <td>aca</td>\n",
       "    </tr>\n",
       "    <tr>\n",
       "      <th>1</th>\n",
       "      <td>train</td>\n",
       "      <td>../data/lung_colon_image_set/lung_image_sets/l...</td>\n",
       "      <td>../data/lung_colon_image_set/lung_image_sets/l...</td>\n",
       "      <td>lungscc789.jpeg</td>\n",
       "      <td>2</td>\n",
       "      <td>scc</td>\n",
       "    </tr>\n",
       "    <tr>\n",
       "      <th>2</th>\n",
       "      <td>train</td>\n",
       "      <td>../data/lung_colon_image_set/lung_image_sets/l...</td>\n",
       "      <td>../data/lung_colon_image_set/lung_image_sets/l...</td>\n",
       "      <td>lungaca3278.jpeg</td>\n",
       "      <td>0</td>\n",
       "      <td>aca</td>\n",
       "    </tr>\n",
       "    <tr>\n",
       "      <th>3</th>\n",
       "      <td>train</td>\n",
       "      <td>../data/lung_colon_image_set/lung_image_sets/l...</td>\n",
       "      <td>../data/lung_colon_image_set/lung_image_sets/l...</td>\n",
       "      <td>lungaca1120.jpeg</td>\n",
       "      <td>0</td>\n",
       "      <td>aca</td>\n",
       "    </tr>\n",
       "    <tr>\n",
       "      <th>4</th>\n",
       "      <td>train</td>\n",
       "      <td>../data/lung_colon_image_set/lung_image_sets/l...</td>\n",
       "      <td>../data/lung_colon_image_set/lung_image_sets/l...</td>\n",
       "      <td>lungn858.jpeg</td>\n",
       "      <td>1</td>\n",
       "      <td>n</td>\n",
       "    </tr>\n",
       "    <tr>\n",
       "      <th>...</th>\n",
       "      <td>...</td>\n",
       "      <td>...</td>\n",
       "      <td>...</td>\n",
       "      <td>...</td>\n",
       "      <td>...</td>\n",
       "      <td>...</td>\n",
       "    </tr>\n",
       "    <tr>\n",
       "      <th>14995</th>\n",
       "      <td>test</td>\n",
       "      <td>../data/lung_colon_image_set/lung_image_sets/l...</td>\n",
       "      <td>../data/lung_colon_image_set/lung_image_sets/l...</td>\n",
       "      <td>lungn119.jpeg</td>\n",
       "      <td>1</td>\n",
       "      <td>n</td>\n",
       "    </tr>\n",
       "    <tr>\n",
       "      <th>14996</th>\n",
       "      <td>test</td>\n",
       "      <td>../data/lung_colon_image_set/lung_image_sets/l...</td>\n",
       "      <td>../data/lung_colon_image_set/lung_image_sets/l...</td>\n",
       "      <td>lungscc555.jpeg</td>\n",
       "      <td>2</td>\n",
       "      <td>scc</td>\n",
       "    </tr>\n",
       "    <tr>\n",
       "      <th>14997</th>\n",
       "      <td>test</td>\n",
       "      <td>../data/lung_colon_image_set/lung_image_sets/l...</td>\n",
       "      <td>../data/lung_colon_image_set/lung_image_sets/l...</td>\n",
       "      <td>lungscc1843.jpeg</td>\n",
       "      <td>2</td>\n",
       "      <td>scc</td>\n",
       "    </tr>\n",
       "    <tr>\n",
       "      <th>14998</th>\n",
       "      <td>test</td>\n",
       "      <td>../data/lung_colon_image_set/lung_image_sets/l...</td>\n",
       "      <td>../data/lung_colon_image_set/lung_image_sets/l...</td>\n",
       "      <td>lungaca4778.jpeg</td>\n",
       "      <td>0</td>\n",
       "      <td>aca</td>\n",
       "    </tr>\n",
       "    <tr>\n",
       "      <th>14999</th>\n",
       "      <td>test</td>\n",
       "      <td>../data/lung_colon_image_set/lung_image_sets/l...</td>\n",
       "      <td>../data/lung_colon_image_set/lung_image_sets/l...</td>\n",
       "      <td>lungn3100.jpeg</td>\n",
       "      <td>1</td>\n",
       "      <td>n</td>\n",
       "    </tr>\n",
       "  </tbody>\n",
       "</table>\n",
       "<p>15000 rows × 6 columns</p>\n",
       "</div>"
      ],
      "text/plain": [
       "      dataset_id                                         image_path  \\\n",
       "0          train  ../data/lung_colon_image_set/lung_image_sets/l...   \n",
       "1          train  ../data/lung_colon_image_set/lung_image_sets/l...   \n",
       "2          train  ../data/lung_colon_image_set/lung_image_sets/l...   \n",
       "3          train  ../data/lung_colon_image_set/lung_image_sets/l...   \n",
       "4          train  ../data/lung_colon_image_set/lung_image_sets/l...   \n",
       "...          ...                                                ...   \n",
       "14995       test  ../data/lung_colon_image_set/lung_image_sets/l...   \n",
       "14996       test  ../data/lung_colon_image_set/lung_image_sets/l...   \n",
       "14997       test  ../data/lung_colon_image_set/lung_image_sets/l...   \n",
       "14998       test  ../data/lung_colon_image_set/lung_image_sets/l...   \n",
       "14999       test  ../data/lung_colon_image_set/lung_image_sets/l...   \n",
       "\n",
       "                                               root_path         file_name  \\\n",
       "0      ../data/lung_colon_image_set/lung_image_sets/l...  lungaca3865.jpeg   \n",
       "1      ../data/lung_colon_image_set/lung_image_sets/l...   lungscc789.jpeg   \n",
       "2      ../data/lung_colon_image_set/lung_image_sets/l...  lungaca3278.jpeg   \n",
       "3      ../data/lung_colon_image_set/lung_image_sets/l...  lungaca1120.jpeg   \n",
       "4      ../data/lung_colon_image_set/lung_image_sets/l...     lungn858.jpeg   \n",
       "...                                                  ...               ...   \n",
       "14995  ../data/lung_colon_image_set/lung_image_sets/l...     lungn119.jpeg   \n",
       "14996  ../data/lung_colon_image_set/lung_image_sets/l...   lungscc555.jpeg   \n",
       "14997  ../data/lung_colon_image_set/lung_image_sets/l...  lungscc1843.jpeg   \n",
       "14998  ../data/lung_colon_image_set/lung_image_sets/l...  lungaca4778.jpeg   \n",
       "14999  ../data/lung_colon_image_set/lung_image_sets/l...    lungn3100.jpeg   \n",
       "\n",
       "       target_id target_name  \n",
       "0              0         aca  \n",
       "1              2         scc  \n",
       "2              0         aca  \n",
       "3              0         aca  \n",
       "4              1           n  \n",
       "...          ...         ...  \n",
       "14995          1           n  \n",
       "14996          2         scc  \n",
       "14997          2         scc  \n",
       "14998          0         aca  \n",
       "14999          1           n  \n",
       "\n",
       "[15000 rows x 6 columns]"
      ]
     },
     "execution_count": 177,
     "metadata": {},
     "output_type": "execute_result"
    }
   ],
   "source": [
    "# Create pd df of image paths, with target and dataset id's, for documentation\n",
    "ids = [TRAIN_ID]*len(trainPaths) + [CV_ID]*len(cvPaths) + [TEST_ID]*len(testPaths)\n",
    "df = pd.DataFrame({'dataset_id': ids, 'image_path': imPaths})\n",
    "df[['root_path', 'image_path', 'file_name']] = pd.DataFrame(df['image_path'].to_list(), index=df.index)\n",
    "df[\"target_id\"] = df[\"root_path\"].astype(\"category\").cat.codes\n",
    "df = df.merge(TARGETS, on = 'target_id', how='left')\n",
    "df"
   ]
  },
  {
   "cell_type": "code",
   "execution_count": 178,
   "id": "26826721",
   "metadata": {},
   "outputs": [],
   "source": [
    "if not os.path.exists(NEW_DATA_PATH):\n",
    "    os.makedirs(NEW_DATA_PATH)\n",
    "\n",
    "df.to_csv(SPLIT_CSV_PATH)"
   ]
  },
  {
   "cell_type": "markdown",
   "id": "ee0d1d4e",
   "metadata": {},
   "source": [
    "### ImageDataGenerator Implementation"
   ]
  },
  {
   "cell_type": "code",
   "execution_count": 179,
   "id": "e078078b",
   "metadata": {},
   "outputs": [
    {
     "name": "stdout",
     "output_type": "stream",
     "text": [
      "Found 12000 validated image filenames belonging to 3 classes.\n",
      "Found 1500 validated image filenames belonging to 3 classes.\n",
      "Found 1500 validated image filenames.\n"
     ]
    }
   ],
   "source": [
    "idg = ImageDataGenerator(rescale = 1/255.0)\n",
    "\n",
    "train_df = df.loc[lambda df: df['dataset_id']==TRAIN_ID]\n",
    "train_idg = idg.flow_from_dataframe(\n",
    "    dataframe = train_df,\n",
    "    directory = \".\",\n",
    "    x_col = \"image_path\",\n",
    "    y_col = \"target_name\",\n",
    "    target_size = IMG_DIM,\n",
    "    shuffle = False\n",
    ")\n",
    "\n",
    "cv_df = df.loc[lambda df: df['dataset_id']==CV_ID]\n",
    "cv_idg = idg.flow_from_dataframe(\n",
    "    dataframe = cv_df,\n",
    "    directory = \".\",\n",
    "    x_col = \"image_path\",\n",
    "    y_col = \"target_name\",\n",
    "    target_size = IMG_DIM,\n",
    "    shuffle = False\n",
    ")\n",
    "\n",
    "test_df = df.loc[lambda df: df['dataset_id']==TEST_ID]\n",
    "test_idg = idg.flow_from_dataframe(\n",
    "    dataframe = test_df,\n",
    "    directory = \".\",\n",
    "    x_col = \"image_path\",\n",
    "    y_col = \"target_name\",\n",
    "    target_size = IMG_DIM,\n",
    "    class_mode = None,\n",
    "    shuffle = False\n",
    ")"
   ]
  },
  {
   "cell_type": "code",
   "execution_count": null,
   "id": "da803298",
   "metadata": {},
   "outputs": [],
   "source": []
  }
 ],
 "metadata": {
  "kernelspec": {
   "display_name": "Python 3 (ipykernel)",
   "language": "python",
   "name": "python3"
  },
  "language_info": {
   "codemirror_mode": {
    "name": "ipython",
    "version": 3
   },
   "file_extension": ".py",
   "mimetype": "text/x-python",
   "name": "python",
   "nbconvert_exporter": "python",
   "pygments_lexer": "ipython3",
   "version": "3.9.13"
  }
 },
 "nbformat": 4,
 "nbformat_minor": 5
}
